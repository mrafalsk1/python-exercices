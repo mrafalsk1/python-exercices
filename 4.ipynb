{
 "cells": [
  {
   "cell_type": "code",
   "execution_count": null,
   "id": "3fe0123c-3f10-459e-9101-ec453c1f714a",
   "metadata": {},
   "outputs": [],
   "source": [
    "/*\n",
    "Create 3 variables to store street, city and country, now create address variable to store entire address. Use two ways of creating this variable, one using + operator and the other using f-string. Now Print the address in such a way that the street, city and country prints in a separate line\n",
    "Create a variable to store the string \"Earth revolves around the sun\"\n",
    "Print \"revolves\" using slice operator\n",
    "Print \"sun\" using negative index\n",
    "Create two variables to store how many fruits and vegetables you eat in a day. Now Print \"I eat x veggies and y fruits daily\" where x and y presents vegetables and fruits that you eat everyday.\n",
    "Use python f string for this.\n",
    "I have a string variable called s='maine 200 banana khaye'. This of course is a wrong statement, the correct statement is 'maine 10 samosa khaye'.\n",
    "Replace incorrect words in original strong with new ones and print the new string. Also try to do this in one line.\n",
    "*/"
   ]
  },
  {
   "cell_type": "code",
   "execution_count": 5,
   "id": "caf9ba79-67f0-45d0-a2d3-e85dfabc2448",
   "metadata": {},
   "outputs": [
    {
     "name": "stdout",
     "output_type": "stream",
     "text": [
      "street\n",
      "city\n",
      "country\n",
      "street\n",
      "city\n",
      "country\n"
     ]
    }
   ],
   "source": [
    "street = 'street'\n",
    "city = 'city'\n",
    "country = 'country'\n",
    "\n",
    "address = street + '\\n' + city + '\\n' + country\n",
    "print(address)\n",
    "address = f'{street}\\n{city}\\n{country}'\n",
    "print(address)"
   ]
  },
  {
   "cell_type": "code",
   "execution_count": 19,
   "id": "235f2a5a-aa29-4eb1-9b73-d930b0782945",
   "metadata": {},
   "outputs": [
    {
     "name": "stdout",
     "output_type": "stream",
     "text": [
      "revolves\n"
     ]
    }
   ],
   "source": [
    "s = \"Earth revolves around the sun\"\n",
    "print(s[6:14])"
   ]
  },
  {
   "cell_type": "code",
   "execution_count": 20,
   "id": "da1ca830-1e81-4552-b03d-f6e4b5479e35",
   "metadata": {},
   "outputs": [
    {
     "name": "stdout",
     "output_type": "stream",
     "text": [
      "sun\n"
     ]
    }
   ],
   "source": [
    "print(s[-3:])"
   ]
  },
  {
   "cell_type": "code",
   "execution_count": 15,
   "id": "b4b29c69-5e8a-4ff2-9afe-04bf3bfcf443",
   "metadata": {},
   "outputs": [
    {
     "name": "stdout",
     "output_type": "stream",
     "text": [
      "I eat 3 veggies and 2 fruits daily\n"
     ]
    }
   ],
   "source": [
    "fruits = 2\n",
    "vegetables = 3\n",
    "print(f'I eat {vegetables} veggies and {fruits} fruits daily')\n"
   ]
  },
  {
   "cell_type": "code",
   "execution_count": 18,
   "id": "99356023-1e77-4285-8770-5e28fb3a9a50",
   "metadata": {},
   "outputs": [
    {
     "name": "stdout",
     "output_type": "stream",
     "text": [
      "maine 20 samosa khaye\n"
     ]
    }
   ],
   "source": [
    "s = 'maine 200 banana khaye'\n",
    "s = s.replace('200 banana', '20 samosa')\n",
    "print(s)"
   ]
  },
  {
   "cell_type": "code",
   "execution_count": null,
   "id": "cfb603c7-6a07-407a-a466-79e069016f75",
   "metadata": {},
   "outputs": [],
   "source": []
  }
 ],
 "metadata": {
  "kernelspec": {
   "display_name": "Python 3 (ipykernel)",
   "language": "python",
   "name": "python3"
  },
  "language_info": {
   "codemirror_mode": {
    "name": "ipython",
    "version": 3
   },
   "file_extension": ".py",
   "mimetype": "text/x-python",
   "name": "python",
   "nbconvert_exporter": "python",
   "pygments_lexer": "ipython3",
   "version": "3.10.9"
  }
 },
 "nbformat": 4,
 "nbformat_minor": 5
}
