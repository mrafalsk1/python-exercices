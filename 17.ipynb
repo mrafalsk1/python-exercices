{
 "cells": [
  {
   "cell_type": "markdown",
   "metadata": {},
   "source": [
    "# xercise: Inheritance\n",
    "# create inheritance using animal Dog relation.\n",
    "# for example, \n",
    "#     Animal and Dog both has same habitat so create a method for habitat \n",
    "# use super() constructor for calling parent constructor.\n",
    "# class Animal:\n",
    "#     #code\n",
    "\n",
    "# class Dog(Animal):\n",
    "#     super()-it refers Animal class,now you can call Animal's methods."
   ]
  },
  {
   "cell_type": "code",
   "execution_count": 2,
   "metadata": {},
   "outputs": [
    {
     "name": "stdout",
     "output_type": "stream",
     "text": [
      "Kennel\n",
      "test\n"
     ]
    }
   ],
   "source": [
    "class Animal:\n",
    "    def __init__(self, habitat):\n",
    "        self.habitat = habitat\n",
    "\n",
    "class Dog(Animal):\n",
    "    def __init__(self):\n",
    "        super().__init__(\"Kennel\")\n",
    "\n",
    "\n",
    "dog = Dog()\n",
    "animal = Animal(\"test\")\n",
    "\n",
    "print(dog.habitat)\n",
    "print(animal.habitat)\n"
   ]
  }
 ],
 "metadata": {
  "kernelspec": {
   "display_name": "Python 3",
   "language": "python",
   "name": "python3"
  },
  "language_info": {
   "codemirror_mode": {
    "name": "ipython",
    "version": 3
   },
   "file_extension": ".py",
   "mimetype": "text/x-python",
   "name": "python",
   "nbconvert_exporter": "python",
   "pygments_lexer": "ipython3",
   "version": "3.10.11"
  },
  "orig_nbformat": 4
 },
 "nbformat": 4,
 "nbformat_minor": 2
}
