{
 "cells": [
  {
   "cell_type": "markdown",
   "metadata": {},
   "source": [
    "## Exercise: Iterators\n",
    "\n",
    "1. Create an iterator for fibonacci series in such a way that each next returns the next element from fibonacci series.\n",
    "2. The iterator should stop when it reaches a `limit` defined in the constructor.\n",
    "\n",
    "\n",
    "\n",
    "[Solution](https://github.com/codebasics/py/blob/master/Basics/Exercise/20_Iterators/20_Iterators.py)"
   ]
  },
  {
   "cell_type": "code",
   "execution_count": 26,
   "metadata": {},
   "outputs": [
    {
     "name": "stdout",
     "output_type": "stream",
     "text": [
      "next\n",
      "0\n",
      "1\n",
      "<__main__.Fibonacci object at 0x000001718D003340>\n",
      "next\n",
      "1\n",
      "1\n",
      "<__main__.Fibonacci object at 0x000001718D003340>\n",
      "next\n",
      "1\n",
      "2\n",
      "<__main__.Fibonacci object at 0x000001718D003340>\n",
      "next\n",
      "2\n",
      "3\n",
      "<__main__.Fibonacci object at 0x000001718D003340>\n",
      "next\n",
      "3\n",
      "5\n",
      "<__main__.Fibonacci object at 0x000001718D003340>\n",
      "next\n",
      "5\n",
      "8\n",
      "<__main__.Fibonacci object at 0x000001718D003340>\n",
      "next\n",
      "8\n",
      "13\n",
      "<__main__.Fibonacci object at 0x000001718D003340>\n",
      "next\n",
      "13\n",
      "21\n",
      "<__main__.Fibonacci object at 0x000001718D003340>\n",
      "next\n",
      "21\n",
      "34\n",
      "<__main__.Fibonacci object at 0x000001718D003340>\n",
      "next\n",
      "34\n",
      "55\n",
      "<__main__.Fibonacci object at 0x000001718D003340>\n"
     ]
    }
   ],
   "source": [
    "class Fibonacci:\n",
    "    def __init__(self,limit) -> None:\n",
    "        self.previous = 0\n",
    "        self.current = 1\n",
    "        self.limit = limit\n",
    "\n",
    "    def __iter__(self):\n",
    "        return self\n",
    "\n",
    "    def __next__(self):\n",
    "        if self.previous + self.current <= self.limit:\n",
    "            print(\"next\")\n",
    "            print(self.previous)\n",
    "            print(self.current)\n",
    "            temp = self.previous\n",
    "            self.previous = self.current\n",
    "            self.current = temp + self.current\n",
    "            return self\n",
    "        else:\n",
    "            raise StopIteration\n",
    "\n",
    "\n",
    "f = iter(Fibonacci(100))\n",
    "\n",
    "while True:\n",
    "    try:\n",
    "        print(next(f))\n",
    "    except StopIteration:\n",
    "        break"
   ]
  }
 ],
 "metadata": {
  "kernelspec": {
   "display_name": "Python 3",
   "language": "python",
   "name": "python3"
  },
  "language_info": {
   "codemirror_mode": {
    "name": "ipython",
    "version": 3
   },
   "file_extension": ".py",
   "mimetype": "text/x-python",
   "name": "python",
   "nbconvert_exporter": "python",
   "pygments_lexer": "ipython3",
   "version": "3.10.11"
  },
  "orig_nbformat": 4
 },
 "nbformat": 4,
 "nbformat_minor": 2
}
