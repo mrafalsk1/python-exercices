{
 "cells": [
  {
   "cell_type": "code",
   "execution_count": 3,
   "metadata": {},
   "outputs": [
    {
     "name": "stdout",
     "output_type": "stream",
     "text": [
      "Max ocurrences 8\n",
      "Words with max occurences\n",
      "I\n",
      "the\n"
     ]
    }
   ],
   "source": [
    "# poem.txt contains famous poem \"Road not taken\" by poet Robert Frost. You have to read this file in your python program and find out words with maximum occurance.\n",
    "# Solution\n",
    "\n",
    "# stocks.csv contains stock price, earnings per share and book value. You are writing a stock market application that will process this file and create a new file with financial metrics such as pe ratio and price to book ratio. These are calculated as,\n",
    "# pe ratio = price / earnings per share\n",
    "# price to book ratio = price / book value\n",
    "# Your input format (stocks.csv) is,\n",
    "\n",
    "# Company Name\tPrice\tEarnings Per Share\tBook Value\n",
    "# Reliance\t1467\t66\t653\n",
    "# Tata Steel\t391\t89\t572\n",
    "# Output.csv should look like this,\n",
    "\n",
    "# Company Name\tPE Ratio\tPB Ratio\n",
    "# Reliance\t22.23\t2.25\n",
    "# Tata Steel\t4.39\t0.68"
   ]
  },
  {
   "cell_type": "code",
   "execution_count": null,
   "metadata": {},
   "outputs": [],
   "source": [
    "words_occurances={}\n",
    "\n",
    "with open(\"poem.txt\", \"r\") as f:\n",
    "    for line in f:\n",
    "        words = line.split(' ')\n",
    "        for word in words:\n",
    "            if word in words_occurances:\n",
    "                words_occurances[word] += 1\n",
    "            else:\n",
    "                words_occurances[word] = 1\n",
    "\n",
    "values = words_occurances.values()\n",
    "\n",
    "\n",
    "max_occurences = max(values)\n",
    "print(f'Max ocurrences {max_occurences}')\n",
    "\n",
    "print(\"Words with max occurences\")\n",
    "for [word, occurences] in words_occurances.items():\n",
    "    if occurences == max_occurences:\n",
    "        print(word)\n",
    "\n"
   ]
  },
  {
   "cell_type": "code",
   "execution_count": 5,
   "metadata": {},
   "outputs": [],
   "source": [
    "with open(\"stocks.csv\", \"r\") as f, open(\"output.csv\", \"w\") as out:\n",
    "    out.write(\"Company Name, PE Ratio, PB Ratio\\n\")\n",
    "    next(f)\n",
    "    for line in f:\n",
    "        attributes = line.split(\",\")\n",
    "        company = attributes[0]\n",
    "        price = float(attributes[1])\n",
    "        eps = float(attributes[2])\n",
    "        book_value = float(attributes[3])\n",
    "        pe = price / eps\n",
    "        pb = price / book_value\n",
    "\n",
    "        out.write(f\"{company, pe, pb}\\n\")"
   ]
  }
 ],
 "metadata": {
  "kernelspec": {
   "display_name": "Python 3",
   "language": "python",
   "name": "python3"
  },
  "language_info": {
   "codemirror_mode": {
    "name": "ipython",
    "version": 3
   },
   "file_extension": ".py",
   "mimetype": "text/x-python",
   "name": "python",
   "nbconvert_exporter": "python",
   "pygments_lexer": "ipython3",
   "version": "3.10.11"
  },
  "orig_nbformat": 4
 },
 "nbformat": 4,
 "nbformat_minor": 2
}
