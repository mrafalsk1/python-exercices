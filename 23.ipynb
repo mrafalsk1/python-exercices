{
 "cells": [
  {
   "cell_type": "markdown",
   "metadata": {},
   "source": [
    "## Exercise: Sets and Frozen Sets\n",
    "\n",
    "\n",
    "1. create any set anf try to use frozenset(setname)\n",
    "\n",
    "\n",
    "2. Find the elements in a given set that are not in another set\n",
    "\n",
    "\n",
    "```\n",
    "    set1 = {1,2,3,4,5}\n",
    "    set2 = {4,5,6,7,8}\n",
    "\n",
    "    diffrence between set1 and set2 is {1,2,3}\n",
    "     \n",
    "```\n",
    "\n",
    "\n",
    "\n",
    "[Solution](https://github.com/codebasics/py/blob/master/Basics/Exercise/23_sets_frozensets/23_sets_frozensets.py)"
   ]
  },
  {
   "cell_type": "code",
   "execution_count": 2,
   "metadata": {},
   "outputs": [
    {
     "name": "stdout",
     "output_type": "stream",
     "text": [
      "{1, 2, 3}\n",
      "{8, 6, 7}\n",
      "{1, 2, 3}\n",
      "{8, 6, 7}\n"
     ]
    }
   ],
   "source": [
    "set1 = {1,2,3,4,5}\n",
    "set2 = {4,5,6,7,8}\n",
    "\n",
    "print(set1.difference(set2))\n",
    "print(set2.difference(set1))\n",
    "print(set1 - set2)\n",
    "print(set2 - set1)"
   ]
  }
 ],
 "metadata": {
  "kernelspec": {
   "display_name": "Python 3",
   "language": "python",
   "name": "python3"
  },
  "language_info": {
   "codemirror_mode": {
    "name": "ipython",
    "version": 3
   },
   "file_extension": ".py",
   "mimetype": "text/x-python",
   "name": "python",
   "nbconvert_exporter": "python",
   "pygments_lexer": "ipython3",
   "version": "3.10.11"
  },
  "orig_nbformat": 4
 },
 "nbformat": 4,
 "nbformat_minor": 2
}
