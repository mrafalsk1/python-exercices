{
 "cells": [
  {
   "cell_type": "code",
   "execution_count": 15,
   "metadata": {},
   "outputs": [
    {
     "name": "stdout",
     "output_type": "stream",
     "text": [
      "ID: 1 \n",
      "Name: test\n",
      "emp id not defined\n",
      "emp not defined\n"
     ]
    }
   ],
   "source": [
    "class Employee:\n",
    "    def __init__(self, id, name):\n",
    "        self.id = id\n",
    "        self.name = name\n",
    "    \n",
    "    def display(self):\n",
    "        print(f\"ID: {self.id} \\nName: {self.name}\")\n",
    "\n",
    "emp = Employee(1, \"test\")\n",
    "\n",
    "emp.display()\n",
    "\n",
    "del emp.id\n",
    "\n",
    "try:\n",
    "    emp.id\n",
    "except AttributeError:\n",
    "    print(\"emp id not defined\")\n",
    "\n",
    "\n",
    "del emp\n",
    "\n",
    "\n",
    "try:\n",
    "    emp.display()\n",
    "except NameError:\n",
    "    print(\"emp not defined\")\n"
   ]
  }
 ],
 "metadata": {
  "kernelspec": {
   "display_name": "Python 3",
   "language": "python",
   "name": "python3"
  },
  "language_info": {
   "codemirror_mode": {
    "name": "ipython",
    "version": 3
   },
   "file_extension": ".py",
   "mimetype": "text/x-python",
   "name": "python",
   "nbconvert_exporter": "python",
   "pygments_lexer": "ipython3",
   "version": "3.10.11"
  },
  "orig_nbformat": 4
 },
 "nbformat": 4,
 "nbformat_minor": 2
}
