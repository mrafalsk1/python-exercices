{
 "cells": [
  {
   "cell_type": "markdown",
   "metadata": {},
   "source": [
    "## Exercise: Decorators\n",
    "\n",
    "1. Create a decorator function to check that the argument passed to the function factorial is a non-negative integer:\n",
    "\n",
    "2. Create a factorial function which finds the factorial of a number.\n",
    "\n",
    "3. Use the decorator to decorate the factorial function to only allow factorial of non-negative integers.\n",
    "```\n",
    "example: \n",
    "\n",
    "    factorial(1.354) : raise Exception or print error message\n",
    "    factorial(-1) : raise Exception or print error message\n",
    "    factorial(5) : 60\n",
    "\n",
    "```\n",
    "[Solution](https://github.com/codebasics/py/blob/master/Basics/Exercise/25_decorators/25_decorators.py)"
   ]
  },
  {
   "cell_type": "code",
   "execution_count": 5,
   "metadata": {},
   "outputs": [
    {
     "name": "stdout",
     "output_type": "stream",
     "text": [
      "120\n"
     ]
    },
    {
     "ename": "AttributeError",
     "evalue": "'Exception' object has no attribute 'print_exception'",
     "output_type": "error",
     "traceback": [
      "\u001b[1;31m---------------------------------------------------------------------------\u001b[0m",
      "\u001b[1;31mException\u001b[0m                                 Traceback (most recent call last)",
      "Cell \u001b[1;32mIn[5], line 19\u001b[0m\n\u001b[0;32m     18\u001b[0m \u001b[39mtry\u001b[39;00m:\n\u001b[1;32m---> 19\u001b[0m     \u001b[39mprint\u001b[39m(factorial(\u001b[39m-\u001b[39;49m\u001b[39m1\u001b[39;49m))\n\u001b[0;32m     20\u001b[0m \u001b[39mexcept\u001b[39;00m \u001b[39mException\u001b[39;00m \u001b[39mas\u001b[39;00m e:\n",
      "Cell \u001b[1;32mIn[5], line 6\u001b[0m, in \u001b[0;36mcheck.<locals>.helper\u001b[1;34m(x)\u001b[0m\n\u001b[0;32m      5\u001b[0m \u001b[39melse\u001b[39;00m:\n\u001b[1;32m----> 6\u001b[0m     \u001b[39mraise\u001b[39;00m \u001b[39mException\u001b[39;00m(\u001b[39m\"\u001b[39m\u001b[39mexcpetiion\u001b[39m\u001b[39m\"\u001b[39m)\n",
      "\u001b[1;31mException\u001b[0m: excpetiion",
      "\nDuring handling of the above exception, another exception occurred:\n",
      "\u001b[1;31mAttributeError\u001b[0m                            Traceback (most recent call last)",
      "Cell \u001b[1;32mIn[5], line 21\u001b[0m\n\u001b[0;32m     19\u001b[0m     \u001b[39mprint\u001b[39m(factorial(\u001b[39m-\u001b[39m\u001b[39m1\u001b[39m))\n\u001b[0;32m     20\u001b[0m \u001b[39mexcept\u001b[39;00m \u001b[39mException\u001b[39;00m \u001b[39mas\u001b[39;00m e:\n\u001b[1;32m---> 21\u001b[0m     e\u001b[39m.\u001b[39;49mprint_exception()\n\u001b[0;32m     23\u001b[0m \u001b[39mtry\u001b[39;00m:\n\u001b[0;32m     24\u001b[0m     \u001b[39mprint\u001b[39m(factorial(\u001b[39m1.5\u001b[39m))\n",
      "\u001b[1;31mAttributeError\u001b[0m: 'Exception' object has no attribute 'print_exception'"
     ]
    }
   ],
   "source": [
    "def check(f):\n",
    "    def helper(x):\n",
    "        if type(x) == int and x > 0:\n",
    "            return f(x)\n",
    "        else:\n",
    "            raise Exception(\"excpetiion\")\n",
    "    return helper\n",
    "\n",
    "@check\n",
    "def factorial(n): \n",
    "    if n == 1:\n",
    "        return 1\n",
    "    else:\n",
    "        return n * factorial(n - 1)\n",
    "    \n",
    "\n",
    "print(factorial(5))\n",
    "try:\n",
    "    print(factorial(-1))\n",
    "except Exception as e:\n",
    "    e.print_exception()\n",
    "    \n",
    "try:\n",
    "    print(factorial(1.5))\n",
    "except Exception as e:\n",
    "    e.print_exception()"
   ]
  }
 ],
 "metadata": {
  "kernelspec": {
   "display_name": "Python 3",
   "language": "python",
   "name": "python3"
  },
  "language_info": {
   "codemirror_mode": {
    "name": "ipython",
    "version": 3
   },
   "file_extension": ".py",
   "mimetype": "text/x-python",
   "name": "python",
   "nbconvert_exporter": "python",
   "pygments_lexer": "ipython3",
   "version": "3.10.11"
  },
  "orig_nbformat": 4
 },
 "nbformat": 4,
 "nbformat_minor": 2
}
