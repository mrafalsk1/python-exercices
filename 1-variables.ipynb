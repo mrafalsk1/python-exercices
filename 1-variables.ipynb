{
 "cells": [
  {
   "cell_type": "code",
   "execution_count": null,
   "id": "7f7579ed-aa35-4a47-925f-4aaef7be56f4",
   "metadata": {},
   "outputs": [],
   "source": [
    "break=5"
   ]
  },
  {
   "cell_type": "code",
   "execution_count": 20,
   "id": "e013194f-660e-43e4-b554-8050f46e956f",
   "metadata": {},
   "outputs": [
    {
     "name": "stdout",
     "output_type": "stream",
     "text": [
      "20\n"
     ]
    }
   ],
   "source": [
    "import datetime\n",
    "\n",
    "birth_year = datetime.datetime(2003,1,31)\n",
    "now = datetime.datetime.now()\n",
    "age = now - birth_year\n",
    "print(round(age.days / 365  - 0.5))"
   ]
  },
  {
   "cell_type": "code",
   "execution_count": null,
   "id": "8e80fb12-2d87-46b8-a033-55a6ecbcf7d6",
   "metadata": {},
   "outputs": [
    {
     "name": "stdout",
     "output_type": "stream",
     "text": [
      "Matheus Rafalski\n"
     ]
    }
   ],
   "source": [
    "first_name = \"Matheus\"\n",
    "last_name = \"Rafalski\"\n",
    "\n",
    "print(first_name + \" \" + last_name)"
   ]
  },
  {
   "cell_type": "code",
   "execution_count": 23,
   "id": "2e5afa02-8fe8-47c7-8b4f-11b93da31350",
   "metadata": {},
   "outputs": [
    {
     "ename": "SyntaxError",
     "evalue": "invalid decimal literal (3997796993.py, line 1)",
     "output_type": "error",
     "traceback": [
      "\u001b[1;36m  Cell \u001b[1;32mIn[23], line 1\u001b[1;36m\u001b[0m\n\u001b[1;33m    1record = sd\u001b[0m\n\u001b[1;37m    ^\u001b[0m\n\u001b[1;31mSyntaxError\u001b[0m\u001b[1;31m:\u001b[0m invalid decimal literal\n"
     ]
    }
   ],
   "source": [
    "1record = sd"
   ]
  },
  {
   "cell_type": "code",
   "execution_count": null,
   "id": "c153490b-57a0-4012-b902-7dcbefb79772",
   "metadata": {},
   "outputs": [],
   "source": []
  }
 ],
 "metadata": {
  "kernelspec": {
   "display_name": "Python 3 (ipykernel)",
   "language": "python",
   "name": "python3"
  },
  "language_info": {
   "codemirror_mode": {
    "name": "ipython",
    "version": 3
   },
   "file_extension": ".py",
   "mimetype": "text/x-python",
   "name": "python",
   "nbconvert_exporter": "python",
   "pygments_lexer": "ipython3",
   "version": "3.10.9"
  }
 },
 "nbformat": 4,
 "nbformat_minor": 5
}
