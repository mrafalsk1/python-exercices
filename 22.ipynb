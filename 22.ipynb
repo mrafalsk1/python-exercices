{
 "cells": [
  {
   "cell_type": "markdown",
   "metadata": {},
   "source": [
    "## Exercise: List Set Dict Comprehensions\n",
    "\n",
    "\n",
    "1. Create a Dictionary which contains the Binary values mapping with numbers found in the below integer and binary and save it in binary_dict. \n",
    "\n",
    "Example :\n",
    "```\n",
    "    integer = [0, 1, 2, 3, 4]\n",
    "    binary = [\"0\", \"1\", \"10\", \"11\", \"100\"]\n",
    "    binary_dict = {0:\"0\", 1:\"1\", 2:\"10\", 3: \"11\", 4:\"100\"}\n",
    "```\n",
    "\n",
    "2. Create a List which contains additive inverse of a given integer list. \n",
    "An additive inverse `a` for an integer `i` is a number such that:\n",
    "```\n",
    "a + i = 0\n",
    "```\n",
    "Example:\n",
    "```\n",
    "integer = [1, -1, 2, 3, 5, 0, -7]\n",
    "additive_inverse = [-1, 1, -2, -3, -5, 0, 7]\n",
    "```\n",
    "\n",
    "3. Create a set which only contains unique sqaures from a given a integer list.\n",
    "```\n",
    "integer = [1, -1, 2, -2, 3, -3]\n",
    "sq_set = {1, 4, 9}\n",
    "```\n",
    "\n",
    "[Solution](https://github.com/codebasics/py/blob/master/Basics/Exercise/22_list_set_dict_comprehension/22_list_set_dict_comprehension.py)"
   ]
  },
  {
   "cell_type": "code",
   "execution_count": 3,
   "metadata": {},
   "outputs": [
    {
     "name": "stdout",
     "output_type": "stream",
     "text": [
      "{0: '0', 1: '1', 2: '10', 3: '11', 4: '100'}\n"
     ]
    }
   ],
   "source": [
    "integer = [0,1,2,3,4]\n",
    "binary = [\"0\",\"1\",\"10\",\"11\",\"100\"]\n",
    "\n",
    "zip_binary = zip(integer, binary)\n",
    "binary_dict = {integer: binary for integer, binary in zip_binary}\n",
    "\n",
    "print(binary_dict)"
   ]
  },
  {
   "cell_type": "code",
   "execution_count": 5,
   "metadata": {},
   "outputs": [
    {
     "name": "stdout",
     "output_type": "stream",
     "text": [
      "[-1, 1, -2, 2, -3, 3]\n"
     ]
    }
   ],
   "source": [
    "integer = [1,-1,2,-2,3,-3]\n",
    "\n",
    "integer_inverse = [-1*i for i in integer ]\n",
    "print(integer_inverse)"
   ]
  },
  {
   "cell_type": "code",
   "execution_count": 9,
   "metadata": {},
   "outputs": [
    {
     "name": "stdout",
     "output_type": "stream",
     "text": [
      "[1, 1, 4, 4, 9, 9]\n"
     ]
    }
   ],
   "source": [
    "integer = [1, -1, 2, -2, 3, -3]\n",
    "sq_set=  [i**2 for i in integer]\n",
    "print(sq_set)"
   ]
  }
 ],
 "metadata": {
  "kernelspec": {
   "display_name": "Python 3",
   "language": "python",
   "name": "python3"
  },
  "language_info": {
   "codemirror_mode": {
    "name": "ipython",
    "version": 3
   },
   "file_extension": ".py",
   "mimetype": "text/x-python",
   "name": "python",
   "nbconvert_exporter": "python",
   "pygments_lexer": "ipython3",
   "version": "3.10.11"
  },
  "orig_nbformat": 4
 },
 "nbformat": 4,
 "nbformat_minor": 2
}
