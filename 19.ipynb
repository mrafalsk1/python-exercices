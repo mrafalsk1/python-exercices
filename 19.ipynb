{
 "cells": [
  {
   "cell_type": "markdown",
   "metadata": {},
   "source": [
    "## Exercise: Raise Exception And Finally\n",
    "\n",
    "1. Create a custom exception AdultException.\n",
    "\n",
    "2. Create a class Person with attributes name and age in it.\n",
    "\n",
    "3. Create a function get_minor_age() in the class. It throws an exception if the person is adult otherwise returns age.\n",
    "\n",
    "4. Create a function display_person() which prints the age and name of a person.\n",
    "```\n",
    "let us say,\n",
    "\n",
    "if age>18 \n",
    "    he is major\n",
    "else\n",
    "    raise exception\n",
    "\n",
    "create cusomException named ismajor and raise it if age<18.\n",
    "```\n",
    "\n",
    "\n",
    "\n",
    "[Solution](https://github.com/codebasics/py/blob/master/Basics/Exercise/19_raise_exception_finally/19_raise_exception_finally.py)"
   ]
  },
  {
   "cell_type": "code",
   "execution_count": 4,
   "metadata": {},
   "outputs": [
    {
     "name": "stdout",
     "output_type": "stream",
     "text": [
      "Person is an adult\n",
      "name -> minor\n",
      "age -> 19\n",
      "name -> major\n"
     ]
    }
   ],
   "source": [
    "class AdultException(Exception):\n",
    "    pass\n",
    "\n",
    "class Person:\n",
    "    def __init__(self,name, age) -> None:\n",
    "        self.age = age\n",
    "        self.name = name\n",
    "\n",
    "    def get_minor_age(self):\n",
    "        if self.age >= 18:\n",
    "            return self.age\n",
    "        else:\n",
    "            raise AdultException\n",
    "    \n",
    "    def display_person(self):\n",
    "        try:\n",
    "            print(f\"age -> {self.get_minor_age()}\")\n",
    "        except AdultException:\n",
    "            print(\"Person is an adult\")\n",
    "        finally:\n",
    "            print(f\"name -> {self.name}\")\n",
    "\n",
    "\n",
    "minor = Person(\"minor\", 17)\n",
    "major = Person(\"major\", 19)\n",
    "\n",
    "minor.display_person()\n",
    "major.display_person()\n"
   ]
  }
 ],
 "metadata": {
  "kernelspec": {
   "display_name": "Python 3",
   "language": "python",
   "name": "python3"
  },
  "language_info": {
   "codemirror_mode": {
    "name": "ipython",
    "version": 3
   },
   "file_extension": ".py",
   "mimetype": "text/x-python",
   "name": "python",
   "nbconvert_exporter": "python",
   "pygments_lexer": "ipython3",
   "version": "3.10.11"
  },
  "orig_nbformat": 4
 },
 "nbformat": 4,
 "nbformat_minor": 2
}
