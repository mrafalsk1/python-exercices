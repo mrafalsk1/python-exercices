{
 "cells": [
  {
   "cell_type": "markdown",
   "metadata": {},
   "source": [
    "<!-- Exercise: Multiple Inheritance\n",
    "Real Life Example :\n",
    "\n",
    "Create multiple inheritance on teacher,student and youtuber.\n",
    "Q. if we have created teacher and now one student joins master degree with becoming teacher then what??\n",
    "\n",
    "Ans :  just make subclass from  teacher so that student will become teacher\n",
    "Now student is teacher as well as youtuber then what???\n",
    "-just use multiple inheritance for these three relations\n",
    " -->\n"
   ]
  },
  {
   "cell_type": "markdown",
   "metadata": {},
   "source": [
    "## Exercise: Multiple Inheritance\n",
    "\n",
    "Real Life Example :\n",
    "1. Create multiple inheritance on teacher,student and youtuber.\n",
    "\n",
    "\n",
    "```\n",
    "Q. if we have created teacher and now one student joins master degree with becoming teacher then what??\n",
    "\n",
    "Ans :  just make subclass from  teacher so that student will become teacher\n",
    "```\n",
    "\n",
    "2. Now student is teacher as well as youtuber then what???\n",
    "\n",
    "\n",
    "```\n",
    "-just use multiple inheritance for these three relations\n",
    "\n",
    "```\n",
    "\n",
    "\n",
    "[Solution](https://github.com/codebasics/py/blob/master/Basics/Exercise/18_multiple_inheritance/18_multiple_inheritance.py)"
   ]
  },
  {
   "cell_type": "code",
   "execution_count": 3,
   "metadata": {},
   "outputs": [
    {
     "name": "stdout",
     "output_type": "stream",
     "text": [
      "Teach\n",
      "Student\n",
      "youtube\n"
     ]
    }
   ],
   "source": [
    "class Teacher:\n",
    "    def teacher_actions(self):\n",
    "        print(\"Teach\")\n",
    "\n",
    "class Student: \n",
    "    def student_action(self):\n",
    "        print(\"Student\")\n",
    "    \n",
    "class Youtuber:\n",
    "    def youtuber_action(self):\n",
    "        print(\"youtube\")\n",
    "    \n",
    "class Person(Teacher, Student, Youtuber):\n",
    "    pass\n",
    "\n",
    "student = Person()\n",
    "student.teacher_actions()\n",
    "student.student_action()\n",
    "student.youtuber_action()"
   ]
  },
  {
   "cell_type": "code",
   "execution_count": null,
   "metadata": {},
   "outputs": [],
   "source": []
  }
 ],
 "metadata": {
  "kernelspec": {
   "display_name": "Python 3",
   "language": "python",
   "name": "python3"
  },
  "language_info": {
   "codemirror_mode": {
    "name": "ipython",
    "version": 3
   },
   "file_extension": ".py",
   "mimetype": "text/x-python",
   "name": "python",
   "nbconvert_exporter": "python",
   "pygments_lexer": "ipython3",
   "version": "3.10.11"
  },
  "orig_nbformat": 4
 },
 "nbformat": 4,
 "nbformat_minor": 2
}
