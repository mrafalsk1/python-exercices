{
 "cells": [
  {
   "cell_type": "code",
   "execution_count": 1,
   "id": "d7e3c6fa-b865-4814-9a6a-988282d65426",
   "metadata": {},
   "outputs": [
    {
     "name": "stdout",
     "output_type": "stream",
     "text": [
      "4489.599999999999\n"
     ]
    }
   ],
   "source": [
    "long = 92\n",
    "width = 48.8\n",
    "area = long * width\n",
    "\n",
    "print(area)"
   ]
  },
  {
   "cell_type": "code",
   "execution_count": 3,
   "id": "b639bb22-32da-41df-a482-d04bda09f133",
   "metadata": {},
   "outputs": [
    {
     "name": "stdout",
     "output_type": "stream",
     "text": [
      "6.59\n"
     ]
    }
   ],
   "source": [
    "price = 9 * 1.49\n",
    "received_value = 20\n",
    "exchange = received_value - price\n",
    "print(exchange)"
   ]
  },
  {
   "cell_type": "code",
   "execution_count": null,
   "id": "e7ff1b2a-9c69-4bb7-badb-6358f9516230",
   "metadata": {},
   "outputs": [],
   "source": []
  }
 ],
 "metadata": {
  "kernelspec": {
   "display_name": "Python 3 (ipykernel)",
   "language": "python",
   "name": "python3"
  },
  "language_info": {
   "codemirror_mode": {
    "name": "ipython",
    "version": 3
   },
   "file_extension": ".py",
   "mimetype": "text/x-python",
   "name": "python",
   "nbconvert_exporter": "python",
   "pygments_lexer": "ipython3",
   "version": "3.10.9"
  }
 },
 "nbformat": 4,
 "nbformat_minor": 5
}
