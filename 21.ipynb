{
 "cells": [
  {
   "cell_type": "markdown",
   "metadata": {},
   "source": [
    "## Exercise: Generators\n",
    "\n",
    "1. Print Square Sequence using yield\n",
    "\n",
    "\n",
    "```\n",
    "    Create Generator method such that every time it will returns a next square number\n",
    "\n",
    "for exmaple : 1 4 9 16 ..\n",
    "\n",
    "     \n",
    "```\n",
    "\n",
    "\n",
    "\n",
    "[Solution](https://github.com/codebasics/py/blob/master/Basics/Exercise/21_generators/21_generators.py)"
   ]
  },
  {
   "cell_type": "code",
   "execution_count": 5,
   "metadata": {},
   "outputs": [
    {
     "name": "stdout",
     "output_type": "stream",
     "text": [
      "1\n",
      "4\n",
      "9\n",
      "16\n"
     ]
    }
   ],
   "source": [
    "def next_square(limit):\n",
    "    i = 1\n",
    "    while i * i < limit:\n",
    "        yield i * i\n",
    "        i += 1\n",
    "\n",
    "    \n",
    "for n in next_square(20):\n",
    "    print(n)"
   ]
  }
 ],
 "metadata": {
  "kernelspec": {
   "display_name": "Python 3",
   "language": "python",
   "name": "python3"
  },
  "language_info": {
   "codemirror_mode": {
    "name": "ipython",
    "version": 3
   },
   "file_extension": ".py",
   "mimetype": "text/x-python",
   "name": "python",
   "nbconvert_exporter": "python",
   "pygments_lexer": "ipython3",
   "version": "3.10.11"
  },
  "orig_nbformat": 4
 },
 "nbformat": 4,
 "nbformat_minor": 2
}
