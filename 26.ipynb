{
 "cells": [
  {
   "cell_type": "code",
   "execution_count": 2,
   "metadata": {},
   "outputs": [
    {
     "name": "stdout",
     "output_type": "stream",
     "text": [
      "sleep 7\n",
      " 0\n",
      "sleep  1\n",
      "8\n",
      "sleep  2\n",
      "9\n",
      "sleep  3\n",
      "10\n",
      "sleep  4\n",
      "11\n",
      "sleep  5\n",
      "12\n",
      "sleep  6\n",
      "13\n",
      "sleep  7\n",
      "14\n",
      "sleep  8\n",
      "15\n",
      "sleep  9\n",
      "16\n"
     ]
    },
    {
     "name": "stdout",
     "output_type": "stream",
     "text": [
      "awake awake  1\n",
      " 0\n",
      "awake  4\n",
      "awake  2\n",
      "awake  3\n",
      "awake  9\n",
      "awake  8\n",
      "awake  5\n",
      "awake  7\n",
      "awake  6\n"
     ]
    }
   ],
   "source": [
    "import time\n",
    "import threading\n",
    "from threading import Thread\n",
    "\n",
    "def sleep(i):\n",
    "    print('sleep ',i)\n",
    "    time.sleep(2)\n",
    "    print('awake ',i)\n",
    "\n",
    "for i in range(10):\n",
    "    th = Thread(target=sleep, args=(i,))\n",
    "    th.start()\n",
    "    print(threading.active_count())"
   ]
  }
 ],
 "metadata": {
  "kernelspec": {
   "display_name": "Python 3",
   "language": "python",
   "name": "python3"
  },
  "language_info": {
   "codemirror_mode": {
    "name": "ipython",
    "version": 3
   },
   "file_extension": ".py",
   "mimetype": "text/x-python",
   "name": "python",
   "nbconvert_exporter": "python",
   "pygments_lexer": "ipython3",
   "version": "3.10.11"
  },
  "orig_nbformat": 4
 },
 "nbformat": 4,
 "nbformat_minor": 2
}
