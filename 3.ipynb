{
 "cells": [
  {
   "cell_type": "code",
   "execution_count": null,
   "id": "9bd891c4-7f9a-43d0-abb7-e5d095e424c8",
   "metadata": {},
   "outputs": [],
   "source": [
    "/*\n",
    "You have a football field that is 92 meter long and 48.8 meter wide. Find out total area using python and print it.\n",
    "You bought 9 packets of potato chips from a store. Each packet costs 1.49 dollar and you gave shopkeeper 20 dollar. Find out using python, how many dollars is the shopkeeper going to give you back?\n",
    "You want to replace tiles in your bathroom which is exactly square and 5.5 feet is its length. If tiles cost 500 rs per square feet, how much will be the total cost to replace all tiles. Calculate and print the cost using python (Hint: Use power operator ** to find area of a square)\n",
    "Print binary representation of number 17\n",
    "*/"
   ]
  },
  {
   "cell_type": "code",
   "execution_count": 1,
   "id": "3e0455ad-4dc1-42ee-a9f0-19c7a533067e",
   "metadata": {},
   "outputs": [
    {
     "name": "stdout",
     "output_type": "stream",
     "text": [
      "4489.599999999999\n"
     ]
    }
   ],
   "source": [
    "long = 92\n",
    "width = 48.8\n",
    "area = long * width\n",
    "\n",
    "print(area)"
   ]
  },
  {
   "cell_type": "code",
   "execution_count": 2,
   "id": "310c2e5d-f1b2-4b6b-8410-0de2ecbecb1d",
   "metadata": {},
   "outputs": [
    {
     "name": "stdout",
     "output_type": "stream",
     "text": [
      "6.59\n"
     ]
    }
   ],
   "source": [
    "qt = 9\n",
    "cost = 1.49\n",
    "given = 20\n",
    "print(20 - qt * cost)\n"
   ]
  },
  {
   "cell_type": "code",
   "execution_count": 4,
   "id": "69b78b10-99a5-46ee-84bd-ad5d42a802e9",
   "metadata": {},
   "outputs": [
    {
     "name": "stdout",
     "output_type": "stream",
     "text": [
      "15125.0\n"
     ]
    }
   ],
   "source": [
    "length = 5.5\n",
    "cost = 500\n",
    "area = length ** 2\n",
    "print(cost * area)"
   ]
  },
  {
   "cell_type": "code",
   "execution_count": 5,
   "id": "cfbd94a4-baaf-42e5-aac3-358c30f57f03",
   "metadata": {},
   "outputs": [
    {
     "name": "stdout",
     "output_type": "stream",
     "text": [
      "10001\n"
     ]
    }
   ],
   "source": [
    "num = 17\n",
    "print(format(num, 'b'))"
   ]
  },
  {
   "cell_type": "code",
   "execution_count": null,
   "id": "c70542d5-561b-4f9c-9704-d888a78e5891",
   "metadata": {},
   "outputs": [],
   "source": []
  }
 ],
 "metadata": {
  "kernelspec": {
   "display_name": "Python 3 (ipykernel)",
   "language": "python",
   "name": "python3"
  },
  "language_info": {
   "codemirror_mode": {
    "name": "ipython",
    "version": 3
   },
   "file_extension": ".py",
   "mimetype": "text/x-python",
   "name": "python",
   "nbconvert_exporter": "python",
   "pygments_lexer": "ipython3",
   "version": "3.10.9"
  }
 },
 "nbformat": 4,
 "nbformat_minor": 5
}
