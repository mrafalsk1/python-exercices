{
 "cells": [
  {
   "cell_type": "code",
   "execution_count": 1,
   "metadata": {},
   "outputs": [],
   "source": [
    "# Using following list of cities per country,\n",
    "# india = [\"mumbai\", \"banglore\", \"chennai\", \"delhi\"]\n",
    "# pakistan = [\"lahore\",\"karachi\",\"islamabad\"]\n",
    "# bangladesh = [\"dhaka\", \"khulna\", \"rangpur\"]\n",
    "# Write a program that asks user to enter a city name and it should tell which country the city belongs to\n",
    "# Write a program that asks user to enter two cities and it tells you if they both are in same country or not. For example if I enter mumbai and chennai, it will print \"Both cities are in India\" but if I enter mumbai and dhaka it should print \"They don't belong to same country\"\n",
    "# Write a python program that can tell you if your sugar is normal or not. Normal fasting level sugar range is 80 to 100.\n",
    "# Ask user to enter his fasting sugar level\n",
    "# If it is below 80 to 100 range then print that sugar is low\n",
    "# If it is above 100 then print that it is high otherwise print that it is normal"
   ]
  },
  {
   "cell_type": "code",
   "execution_count": 2,
   "metadata": {},
   "outputs": [],
   "source": [
    "india = [\"mumbai\", \"banglore\", \"chennai\", \"delhi\"]\n",
    "pakistan = [\"lahore\",\"karachi\",\"islamabad\"]\n",
    "bangladesh = [\"dhaka\", \"khulna\", \"rangpur\"]"
   ]
  },
  {
   "cell_type": "code",
   "execution_count": 6,
   "metadata": {},
   "outputs": [
    {
     "name": "stdout",
     "output_type": "stream",
     "text": [
      "Bangladesh\n"
     ]
    }
   ],
   "source": [
    "city = input(\"city\")\n",
    "\n",
    "if city in india:\n",
    "    print(\"India\")\n",
    "elif city in pakistan:\n",
    "    print(\"Pakistan\")\n",
    "elif city in bangladesh:\n",
    "    print(\"Bangladesh\")\n"
   ]
  },
  {
   "cell_type": "code",
   "execution_count": 8,
   "metadata": {},
   "outputs": [
    {
     "name": "stdout",
     "output_type": "stream",
     "text": [
      "They dont belong to the same country\n"
     ]
    }
   ],
   "source": [
    "cities = input(\"cities\")\n",
    "cities = cities.split(\",\")\n",
    "\n",
    "city1 = cities[0]\n",
    "city2 = cities[1]\n",
    "\n",
    "if city1 in india and city2 in india:\n",
    "    print(\"Both Cities are in india\")\n",
    "elif city1 in pakistan and city2 in pakistan:\n",
    "    print(\"Both Cities are in pakistan\")\n",
    "elif city1 in bangladesh and city2 in bangladesh:\n",
    "    print(\"Both Cities are in bangladesh\")\n",
    "else:\n",
    "    print(\"They dont belong to the same country\")"
   ]
  },
  {
   "cell_type": "code",
   "execution_count": 12,
   "metadata": {},
   "outputs": [
    {
     "name": "stdout",
     "output_type": "stream",
     "text": [
      "Above\n"
     ]
    }
   ],
   "source": [
    "fasting_sugar_level = int(input(\"Fasting Sugar Level\"))\n",
    "\n",
    "if fasting_sugar_level > 100:\n",
    "    print(\"Above\")\n",
    "if fasting_sugar_level < 80:\n",
    "    print(\"Below\")\n",
    "if fasting_sugar_level <= 100 and fasting_sugar_level >= 80:\n",
    "    print(\"Normal\")\n"
   ]
  }
 ],
 "metadata": {
  "kernelspec": {
   "display_name": "base",
   "language": "python",
   "name": "python3"
  },
  "language_info": {
   "codemirror_mode": {
    "name": "ipython",
    "version": 3
   },
   "file_extension": ".py",
   "mimetype": "text/x-python",
   "name": "python",
   "nbconvert_exporter": "python",
   "pygments_lexer": "ipython3",
   "version": "3.10.9"
  },
  "orig_nbformat": 4
 },
 "nbformat": 4,
 "nbformat_minor": 2
}
