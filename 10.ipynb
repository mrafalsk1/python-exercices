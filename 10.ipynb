{
 "cells": [
  {
   "cell_type": "code",
   "execution_count": 2,
   "metadata": {},
   "outputs": [],
   "source": [
    "def calculate_area(base, height):\n",
    "    return (1/2)* base * height"
   ]
  },
  {
   "cell_type": "code",
   "execution_count": 4,
   "metadata": {},
   "outputs": [
    {
     "name": "stdout",
     "output_type": "stream",
     "text": [
      "50.0\n"
     ]
    }
   ],
   "source": [
    "print(calculate_area(10,10))"
   ]
  },
  {
   "cell_type": "code",
   "execution_count": 8,
   "metadata": {},
   "outputs": [
    {
     "name": "stdout",
     "output_type": "stream",
     "text": [
      "100\n",
      "50.0\n",
      "50.0\n"
     ]
    }
   ],
   "source": [
    "def calculate_area(base, height, shape = 'triangle' or 'rectangle'):\n",
    "    if shape == 'rectangle':\n",
    "        return base * height\n",
    "    elif shape == 'triangle':\n",
    "        return (1/2)* base * height\n",
    "        \n",
    "\n",
    "print(calculate_area(10,10, 'rectangle'))\n",
    "print(calculate_area(10,10, 'triangle'))\n",
    "print(calculate_area(10,10))\n"
   ]
  },
  {
   "cell_type": "code",
   "execution_count": 19,
   "metadata": {},
   "outputs": [
    {
     "name": "stdout",
     "output_type": "stream",
     "text": [
      "*\n",
      "**\n",
      "***\n",
      "*\n",
      "**\n",
      "***\n",
      "****\n"
     ]
    }
   ],
   "source": [
    "def print_pattern(lines):\n",
    "    for i in range(lines):  \n",
    "        s =  ''\n",
    "        for j in range(i + 1):\n",
    "            s += '*'\n",
    "        print(s)\n",
    "\n",
    "print_pattern(3)\n",
    "print_pattern(4)"
   ]
  }
 ],
 "metadata": {
  "kernelspec": {
   "display_name": "base",
   "language": "python",
   "name": "python3"
  },
  "language_info": {
   "codemirror_mode": {
    "name": "ipython",
    "version": 3
   },
   "file_extension": ".py",
   "mimetype": "text/x-python",
   "name": "python",
   "nbconvert_exporter": "python",
   "pygments_lexer": "ipython3",
   "version": "3.10.9"
  },
  "orig_nbformat": 4
 },
 "nbformat": 4,
 "nbformat_minor": 2
}
