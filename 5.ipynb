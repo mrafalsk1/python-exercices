{
 "cells": [
  {
   "cell_type": "markdown",
   "id": "74c0233e-bfd5-4640-a11a-348c57aa3cff",
   "metadata": {},
   "source": [
    "Let us say your expense for every month are listed below,\n",
    "January - 2200\n",
    "February - 2350\n",
    "March - 2600\n",
    "April - 2130\n",
    "May - 2190\n",
    "Create a list to store these monthly expenses and using that find out,\n",
    "\n",
    "1. In Feb, how many dollars you spent extra compare to January?\n",
    "2. Find out your total expense in first quarter (first three months) of the year.\n",
    "3. Find out if you spent exactly 2000 dollars in any month\n",
    "4. June month just finished and your expense is 1980 dollar. Add this item to our monthly expense list\n",
    "5. You returned an item that you bought in a month of April and\n",
    "got a refund of 200$. Make a correction to your monthly expense list\n",
    "based on this\n",
    "You have a list of your favourite marvel super heros.\n",
    "heros=['spider man','thor','hulk','iron man','captain america']\n",
    "Using this find out,\n",
    "\n",
    "1. Length of the list\n",
    "2. Add 'black panther' at the end of this list\n",
    "3. You realize that you need to add 'black panther' after 'hulk',\n",
    "   so remove it from the list first and then add it after 'hulk'\n",
    "4. Now you don't like thor and hulk because they get angry easily :)\n",
    "   So you want to remove thor and hulk from list and replace them with doctor strange (because he is cool).\n",
    "   Do that with one line of code.\n",
    "5. Sort the heros list in alphabetical order (Hint. Use dir() functions to list down all functions available in list)\n"
   ]
  },
  {
   "cell_type": "code",
   "execution_count": 2,
   "id": "20f5f449-2dec-4551-847c-0065534e22ef",
   "metadata": {},
   "outputs": [
    {
     "name": "stdout",
     "output_type": "stream",
     "text": [
      "150\n"
     ]
    }
   ],
   "source": [
    "list = [ 2200,2350, 2600, 2130, 2190]\n",
    "print(list[1] - list[0])"
   ]
  },
  {
   "cell_type": "code",
   "execution_count": 6,
   "id": "3425046a-8060-4792-92fe-26ffdc1c4c03",
   "metadata": {},
   "outputs": [
    {
     "name": "stdout",
     "output_type": "stream",
     "text": [
      "7150\n"
     ]
    }
   ],
   "source": [
    "print(sum(list[0:3]))"
   ]
  },
  {
   "cell_type": "code",
   "execution_count": 7,
   "id": "641a51e4-5f34-47aa-b58e-612021789d0e",
   "metadata": {},
   "outputs": [
    {
     "name": "stdout",
     "output_type": "stream",
     "text": [
      "False\n"
     ]
    }
   ],
   "source": [
    "print(2000 in list)"
   ]
  },
  {
   "cell_type": "code",
   "execution_count": 8,
   "id": "bf73914e-6902-4093-94c5-03a2fdb0287f",
   "metadata": {},
   "outputs": [],
   "source": [
    "list.append(1980)"
   ]
  },
  {
   "cell_type": "code",
   "execution_count": 12,
   "id": "7baeb89e-3c46-4376-b1c6-76952dc65df8",
   "metadata": {},
   "outputs": [
    {
     "name": "stdout",
     "output_type": "stream",
     "text": [
      "[2200, 2350, 2600, 1930, 2190, 1980]\n"
     ]
    }
   ],
   "source": [
    "list[-3] = list[-3] - 200\n",
    "print(list)"
   ]
  },
  {
   "cell_type": "code",
   "execution_count": 35,
   "id": "d884af43-3a12-4339-95f3-82125b49d804",
   "metadata": {},
   "outputs": [
    {
     "name": "stdout",
     "output_type": "stream",
     "text": [
      "5\n"
     ]
    }
   ],
   "source": [
    "heroes = ['spider man', 'thor', 'hulk', 'iron man', 'captain america']\n",
    "\n",
    "print(len(heroes))"
   ]
  },
  {
   "cell_type": "code",
   "execution_count": 29,
   "id": "3b4a3c08-87f8-4d85-a3cb-2be721e2f193",
   "metadata": {},
   "outputs": [],
   "source": [
    "heroes.append('black panther')"
   ]
  },
  {
   "cell_type": "code",
   "execution_count": 30,
   "id": "527ae623-3d00-4b0a-99fc-0a6eb0b961cf",
   "metadata": {},
   "outputs": [],
   "source": [
    "heroes.remove(heroes[-1])"
   ]
  },
  {
   "cell_type": "code",
   "execution_count": 36,
   "id": "7e5dcb26-6397-4c54-9d46-5dfbb9fab085",
   "metadata": {},
   "outputs": [],
   "source": [
    "heroes.insert(3,'black panther')"
   ]
  },
  {
   "cell_type": "code",
   "execution_count": 37,
   "id": "423a111e-669f-4488-abdf-2a740e60c058",
   "metadata": {},
   "outputs": [
    {
     "data": {
      "text/plain": [
       "['spider man', 'thor', 'hulk', 'black panther', 'iron man', 'captain america']"
      ]
     },
     "execution_count": 37,
     "metadata": {},
     "output_type": "execute_result"
    }
   ],
   "source": [
    "heroes"
   ]
  },
  {
   "cell_type": "code",
   "execution_count": 38,
   "id": "1fbbc06b-3bb9-4bc3-8bd2-4992846648de",
   "metadata": {},
   "outputs": [
    {
     "data": {
      "text/plain": [
       "['spider man',\n",
       " 'doctor strange',\n",
       " 'black panther',\n",
       " 'iron man',\n",
       " 'captain america']"
      ]
     },
     "execution_count": 38,
     "metadata": {},
     "output_type": "execute_result"
    }
   ],
   "source": [
    "heroes[1:3] = ['doctor strange']\n",
    "heroes"
   ]
  },
  {
   "cell_type": "code",
   "execution_count": 39,
   "id": "01e27a51-f711-4e0e-8848-dc76368ccfe6",
   "metadata": {},
   "outputs": [],
   "source": [
    "heroes.sort()"
   ]
  },
  {
   "cell_type": "code",
   "execution_count": 40,
   "id": "d3f03843-0ba5-4e1c-b682-5bc6595d29a9",
   "metadata": {},
   "outputs": [
    {
     "data": {
      "text/plain": [
       "['black panther',\n",
       " 'captain america',\n",
       " 'doctor strange',\n",
       " 'iron man',\n",
       " 'spider man']"
      ]
     },
     "execution_count": 40,
     "metadata": {},
     "output_type": "execute_result"
    }
   ],
   "source": [
    "heroes"
   ]
  },
  {
   "cell_type": "code",
   "execution_count": null,
   "id": "3f0a4971-f967-4704-be01-6bda75a79d46",
   "metadata": {},
   "outputs": [],
   "source": []
  }
 ],
 "metadata": {
  "kernelspec": {
   "display_name": "Python 3 (ipykernel)",
   "language": "python",
   "name": "python3"
  },
  "language_info": {
   "codemirror_mode": {
    "name": "ipython",
    "version": 3
   },
   "file_extension": ".py",
   "mimetype": "text/x-python",
   "name": "python",
   "nbconvert_exporter": "python",
   "pygments_lexer": "ipython3",
   "version": "3.10.9"
  }
 },
 "nbformat": 4,
 "nbformat_minor": 5
}
