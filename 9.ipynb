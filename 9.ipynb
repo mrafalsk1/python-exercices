{
 "cells": [
  {
   "cell_type": "code",
   "execution_count": null,
   "metadata": {},
   "outputs": [],
   "source": [
    "# After flipping a coin 10 times you got this result,\n",
    "# result = [\"heads\",\"tails\",\"tails\",\"heads\",\"tails\",\"heads\",\"heads\",\"tails\",\"tails\",\"tails\"]\n",
    "# Using for loop figure out how many times you got heads\n",
    "\n",
    "# Print square of all numbers between 1 to 10 except even numbers\n",
    "# Your monthly expense list (from Jan to May) looks like this,\n",
    "# expense_list = [2340, 2500, 2100, 3100, 2980]\n",
    "# Write a program that asks you to enter an expense amount and program should tell you in which month that expense occurred. If expense is not found then it should print that as well.\n",
    "\n",
    "# Lets say you are running a 5 km race. Write a program that,\n",
    "\n",
    "# Upon completing each 1 km asks you \"are you tired?\"\n",
    "# If you reply \"yes\" then it should break and print \"you didn't finish the race\"\n",
    "# If you reply \"no\" then it should continue and ask \"are you tired\" on every km\n",
    "# If you finish all 5 km then it should print congratulations message\n",
    "# Write a program that prints following shape\n",
    "\n",
    "# *\n",
    "# **\n",
    "# ***\n",
    "# ****\n",
    "# *****"
   ]
  },
  {
   "cell_type": "code",
   "execution_count": 1,
   "metadata": {},
   "outputs": [
    {
     "name": "stdout",
     "output_type": "stream",
     "text": [
      "4\n"
     ]
    }
   ],
   "source": [
    "result = [\"heads\",\"tails\",\"tails\",\"heads\",\"tails\",\"heads\",\"heads\",\"tails\",\"tails\",\"tails\"]\n",
    "\n",
    "heads = 0\n",
    "for r in result:\n",
    "    if r == \"heads\":\n",
    "        heads += 1\n",
    "\n",
    "print(heads)\n"
   ]
  },
  {
   "cell_type": "code",
   "execution_count": 5,
   "metadata": {},
   "outputs": [
    {
     "name": "stdout",
     "output_type": "stream",
     "text": [
      "1\n",
      "9\n",
      "25\n",
      "49\n",
      "81\n"
     ]
    }
   ],
   "source": [
    "for i in range(1,10):\n",
    "    if i % 2 == 1:\n",
    "        print(i**2)"
   ]
  },
  {
   "cell_type": "code",
   "execution_count": 9,
   "metadata": {},
   "outputs": [
    {
     "name": "stdout",
     "output_type": "stream",
     "text": [
      "February\n"
     ]
    }
   ],
   "source": [
    "expense_list = [2340, 2500, 2100, 3100, 2980]\n",
    "month_list = [\"January\", \"February\", \"March\", \"April\", \"May\"]\n",
    "\n",
    "expense = int(input(\"expense\"))\n",
    "\n",
    "month = -1\n",
    "\n",
    "for i,e in  enumerate(expense_list):\n",
    "    if e == expense:\n",
    "        month = i\n",
    "        break\n",
    "\n",
    "if month != -1:\n",
    "    print(month_list[month])\n",
    "else:\n",
    "    print(\"none\")\n"
   ]
  },
  {
   "cell_type": "code",
   "execution_count": 14,
   "metadata": {},
   "outputs": [
    {
     "name": "stdout",
     "output_type": "stream",
     "text": [
      "1\n",
      "2\n",
      "3\n",
      "didnt finish the race\n"
     ]
    }
   ],
   "source": [
    "for i in range(5):\n",
    "    print(i + 1)\n",
    "    tired = input(\"Are you tired?\")\n",
    "    if tired == 'yes':\n",
    "        break\n",
    "    \n",
    "if i < 4: \n",
    "    print(\"didnt finish the race\")\n",
    "else:\n",
    "    print(\"Congratulations\")"
   ]
  },
  {
   "cell_type": "code",
   "execution_count": 19,
   "metadata": {},
   "outputs": [
    {
     "name": "stdout",
     "output_type": "stream",
     "text": [
      "*\n",
      "**\n",
      "***\n",
      "****\n",
      "*****\n"
     ]
    }
   ],
   "source": [
    "i = 0\n",
    "j = 0\n",
    "for i in range(5):\n",
    "    s =  ''\n",
    "    for j in range(i + 1):\n",
    "        s += '*'\n",
    "    print(s)"
   ]
  }
 ],
 "metadata": {
  "kernelspec": {
   "display_name": "base",
   "language": "python",
   "name": "python3"
  },
  "language_info": {
   "codemirror_mode": {
    "name": "ipython",
    "version": 3
   },
   "file_extension": ".py",
   "mimetype": "text/x-python",
   "name": "python",
   "nbconvert_exporter": "python",
   "pygments_lexer": "ipython3",
   "version": "3.10.9"
  },
  "orig_nbformat": 4
 },
 "nbformat": 4,
 "nbformat_minor": 2
}
